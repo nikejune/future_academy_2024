{
 "cells": [
  {
   "cell_type": "code",
   "execution_count": 1,
   "id": "bb982d28-e211-4295-831b-69fd4eb71b69",
   "metadata": {},
   "outputs": [
    {
     "name": "stderr",
     "output_type": "stream",
     "text": [
      "/Users/nikejune/anaconda3/envs/lv/lib/python3.8/site-packages/sentence_transformers/cross_encoder/CrossEncoder.py:11: TqdmExperimentalWarning: Using `tqdm.autonotebook.tqdm` in notebook mode. Use `tqdm.tqdm` instead to force console mode (e.g. in jupyter console)\n",
      "  from tqdm.autonotebook import tqdm, trange\n",
      "2024-06-15 07:33:47.947063: I tensorflow/core/platform/cpu_feature_guard.cc:182] This TensorFlow binary is optimized to use available CPU instructions in performance-critical operations.\n",
      "To enable the following instructions: AVX2 FMA, in other operations, rebuild TensorFlow with the appropriate compiler flags.\n",
      "/Users/nikejune/anaconda3/envs/lv/lib/python3.8/site-packages/huggingface_hub/file_download.py:1132: FutureWarning: `resume_download` is deprecated and will be removed in version 1.0.0. Downloads always resume when possible. If you want to force a new download, use `force_download=True`.\n",
      "  warnings.warn(\n"
     ]
    }
   ],
   "source": [
    "from sentence_transformers import SentenceTransformer, util\n",
    "import numpy as np\n",
    "def read_lines_from_files(file_paths):\n",
    "    all_lines = []\n",
    "    for file_path in file_paths:\n",
    "        with open(file_path, 'r', encoding='utf-8') as file:\n",
    "            lines = file.readlines()\n",
    "            all_lines.extend([line.strip() for line in lines])\n",
    "    return all_lines\n",
    "\n",
    "\n",
    "train_paths = [ \"dialogue_loan.txt\", \"dialogue_org.txt\"]\n",
    "test_path = [\"dialogue.txt\"]\n",
    "\n",
    "# Corpus with example sentences\n",
    "corpus = read_lines_from_files(train_paths)\n",
    "#print(corpus)\n",
    "embedder = SentenceTransformer(\"jhgan/ko-sroberta-multitask\")\n",
    "\n",
    "corpus_embeddings = embedder.encode(corpus, convert_to_tensor=True)"
   ]
  },
  {
   "cell_type": "code",
   "execution_count": 3,
   "id": "1404855e-edf5-4018-a623-46daeeacca93",
   "metadata": {},
   "outputs": [
    {
     "name": "stdout",
     "output_type": "stream",
     "text": [
      "\n",
      "\n",
      "======================\n",
      "\n",
      "\n",
      "Query: 알고 계신 사실에 대해서 은닉 또는 허위 진술을 해서도 안되고요.\n",
      "\n",
      "Top 5 most similar sentences in corpus:\n",
      "거짓말을 하시거나 숨기시면 안 되시고요. (Score: 0.8078)\n",
      "응, 예 거짓말하시거나 숨기시면 안 됩니다. (Score: 0.7933)\n",
      "따라서 본인께서 거짓말을 하시거나 은닉을 하시면 안 되시고 아시는 내용 있으면 저희 쪽으로 솔직히 말씀해 주세요. (Score: 0.7901)\n",
      "본인께서는 거짓말을 하시거나 숨기시면 절대 안 되시고요. (Score: 0.7753)\n",
      "이런 부분에 대해서 발설을 하시면 안 돼요. (Score: 0.7600)\n",
      "\n",
      "\n",
      "======================\n",
      "\n",
      "\n",
      "Query: 네 지금 계시는 장소는 어디시죠.\n",
      "\n",
      "Top 5 most similar sentences in corpus:\n",
      "지금 위치하신 곳이 어디세요. (Score: 0.9153)\n",
      "네 지금 어디시라구요. (Score: 0.8751)\n",
      "지금 어디시라고요. (Score: 0.8623)\n",
      "지금 네 지금 어디에 계신 거예요. (Score: 0.8355)\n",
      "위치가 어디쯤 됩니까? (Score: 0.8147)\n",
      "\n",
      "\n",
      "======================\n",
      "\n",
      "\n",
      "Query: 지금 카페에 있는데요.\n",
      "\n",
      "Top 5 most similar sentences in corpus:\n",
      "예 카페예요. (Score: 0.8658)\n",
      "아 지금 커피숍이에요. (Score: 0.7502)\n",
      "카페 통에 있는데, 카페를 통해서 했다고요. (Score: 0.7462)\n",
      "지금 근처 카페에 출근하려러 나갈 거거든요. (Score: 0.6950)\n",
      "네, 네 지금 주변이 좀 소음이라든가 잡음이 좀 더 심한 아 잠시만요 저는 커피숍에서 혼자 지금 과제를 하고 있었어 가지구 아 커피숍 안에 있으신 건가요? (Score: 0.6132)\n",
      "\n",
      "\n",
      "======================\n",
      "\n",
      "\n",
      "Query: 본인이 이 사건에 대해 전혀 관여된 바 같고, 피해자이시라면 있는 그대로 거짓 없이 사실 그대로만 진술을 하시면 됩니다.\n",
      "\n",
      "Top 5 most similar sentences in corpus:\n",
      "네 본인께서 진술하신 내용이 거짓 없는 사실이 맞다면 본인께서 피해자가 맞는 거구요. (Score: 0.7944)\n",
      "응 본인께서 무고한 피해자라는 걸 지금처럼만 얘기해 주시면 되겠습니다. (Score: 0.7406)\n",
      "네 그리고 본인은 이번 사건의 무고한 피해자임을 입증하는 바입니다. (Score: 0.7361)\n",
      "예 없으시고 알겠습니다만 본인께서 지금까지 진술하신 내용은 전부 거짓없는 사실 맞으십니까 그렇죠. (Score: 0.7170)\n",
      "이 질문 사항에 거짓 없는 사실만 말씀하시면 되겠습니다. (Score: 0.7169)\n",
      "\n",
      "\n",
      "======================\n",
      "\n",
      "\n",
      "Query: 그리고 지금 비대면으로 진행하는 수사 과정에 있어서 보험 검사는 절대로 금손을 요구하거나 개인정보에 대한 문의하지 않을 겁니다.\n",
      "\n",
      "Top 5 most similar sentences in corpus:\n",
      "예 질문드리기 앞서서 수사 기관에서는 개인의 개인정보나 금융정보에 대해선 일체 요구하지 않습니다. (Score: 0.7019)\n",
      "질문드리기 앞서 수사기관에서는 개인의 개인정보나 유선을 일체 요구하지 않습니다. (Score: 0.7012)\n",
      "저희는 수사기관이기 때문에 본인의 개인정보에 대해서 요구하지도 않고 그리고 본인에게 금품을 요구하지도 않습니다. (Score: 0.6694)\n",
      "수사기관에서는 개인정보 보호법에 의거하여 유선상의 녹취에서는 본인 주민번호나 계좌번호 또는 비밀번호 등 개인신상에 대한 부분은 절대 요구를 하지 않 요구하지 않고 있습니다. (Score: 0.6624)\n",
      "이 사건에 대해서 수사가는 또는 공공기관에서는요 개인정보보호법에 의거 본인의 주민등록번호나 은행권의 계좌번호 계좌의 비밀로 비밀번호 이러한 개인정보들은 물어보지 않아요. (Score: 0.6525)\n"
     ]
    }
   ],
   "source": [
    "# Query sentences:\n",
    "queries = read_lines_from_files(test_path)[5:10]\n",
    "\n",
    "# Find the closest 5 sentences of the corpus for each query sentence based on cosine similarity\n",
    "top_k = 5\n",
    "for query in queries:\n",
    " query_embedding = embedder.encode(query, convert_to_tensor=True)\n",
    " cos_scores = util.pytorch_cos_sim(query_embedding, corpus_embeddings)[0]\n",
    " cos_scores = cos_scores.cpu()\n",
    "\n",
    " #We use np.argpartition, to only partially sort the top_k results\n",
    " top_results = np.argpartition(-cos_scores, range(top_k))[0:top_k]\n",
    "\n",
    " print(\"\\n\\n======================\\n\\n\")\n",
    " print(\"Query:\", query)\n",
    " print(\"\\nTop 5 most similar sentences in corpus:\")\n",
    "\n",
    " for idx in top_results[0:top_k]:\n",
    "  print(corpus[idx].strip(), \"(Score: %.4f)\" % (cos_scores[idx]))"
   ]
  },
  {
   "cell_type": "code",
   "execution_count": null,
   "id": "98aec003-66dc-4937-9a5b-b5d8afc61a59",
   "metadata": {},
   "outputs": [],
   "source": []
  }
 ],
 "metadata": {
  "kernelspec": {
   "display_name": "lv",
   "language": "python",
   "name": "lv"
  },
  "language_info": {
   "codemirror_mode": {
    "name": "ipython",
    "version": 3
   },
   "file_extension": ".py",
   "mimetype": "text/x-python",
   "name": "python",
   "nbconvert_exporter": "python",
   "pygments_lexer": "ipython3",
   "version": "3.8.18"
  }
 },
 "nbformat": 4,
 "nbformat_minor": 5
}
