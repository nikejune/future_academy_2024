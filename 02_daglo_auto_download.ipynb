{
 "cells": [
  {
   "cell_type": "code",
   "execution_count": null,
   "id": "e0695c85-1501-49bc-aded-505853cd4fe4",
   "metadata": {},
   "outputs": [],
   "source": [
    "from selenium.webdriver.common.by import By\n",
    "from selenium.webdriver.common.keys import Keys\n",
    "from selenium import webdriver\n",
    "import time\n",
    "import random #너무 빨리 가져가면 차단당할수 있어서1"
   ]
  },
  {
   "cell_type": "code",
   "execution_count": null,
   "id": "0bfeddc8-5483-44b6-8d3e-dab55efddc62",
   "metadata": {},
   "outputs": [],
   "source": [
    "driver = webdriver.Chrome()\n",
    "driver.get(f\"https://daglo.ai\") # 여기서 로그인을 먼저하고, 다운로드를 할 준비를 한다."
   ]
  },
  {
   "cell_type": "code",
   "execution_count": null,
   "id": "d871e09b-e0ed-4955-a38b-c8406fd0f382",
   "metadata": {},
   "outputs": [],
   "source": [
    "cnt = 0 \n",
    "for page in range(3, 21) :\n",
    "    driver.get(f\"https://daglo.ai/board?page={page}&folderIds=tJOmISWxogg8oBEw&checkedFolder=tJOmISWxogg8oBEw\")\n",
    "    time.sleep(random.random() + 5)\n",
    "    #input() #자동 방지 화면 방지용\n",
    "    trList = driver.find_elements(By.CSS_SELECTOR, \"tr.default-transition\")\n",
    "    print(len(trList))\n",
    "    for tr in trList :\n",
    "        \n",
    "        print(tr)\n",
    "        a = tr.find_element(By.CSS_SELECTOR, \"a.pr-9\")\n",
    "        \n",
    "        a.send_keys(Keys.COMMAND +\"\\n\")  # 맥\n",
    "       # a.send_keys(Keys.CONTROL +\"\\n\") # 윈도우\n",
    "        time.sleep(random.random() +  4)\n",
    "        driver.switch_to.window(driver.window_handles[-1]) \n",
    "        time.sleep(random.random() + 4)\n",
    "        btn = driver.find_element(By.CSS_SELECTOR, \"#board-download-button-button-open-modal\")\n",
    "        btn.click()\n",
    "        \n",
    "        time.sleep(random.random() + 2)\n",
    "        btn3 = driver.find_element(By.CSS_SELECTOR, \"#board-download-button-toggle-has-time\")\n",
    "        btn3.click()\n",
    "        time.sleep(random.random() + 2)\n",
    "        btn4 = driver.find_element(By.CSS_SELECTOR, \"#board-download-button-button-download\")\n",
    "        btn4.click()\n",
    "        \n",
    "        time.sleep(random.random() + 1)\n",
    "        driver.close()\n",
    "        time.sleep(random.random() + 1)\n",
    "        driver.switch_to.window(driver.window_handles[-1])\n",
    "        time.sleep(random.random() + 1)"
   ]
  },
  {
   "cell_type": "code",
   "execution_count": null,
   "id": "3c61bf5b-4803-4257-8b17-c4bd08ae4ef6",
   "metadata": {},
   "outputs": [],
   "source": []
  }
 ],
 "metadata": {
  "kernelspec": {
   "display_name": "Python 3 (ipykernel)",
   "language": "python",
   "name": "python3"
  },
  "language_info": {
   "codemirror_mode": {
    "name": "ipython",
    "version": 3
   },
   "file_extension": ".py",
   "mimetype": "text/x-python",
   "name": "python",
   "nbconvert_exporter": "python",
   "pygments_lexer": "ipython3",
   "version": "3.8.18"
  }
 },
 "nbformat": 4,
 "nbformat_minor": 5
}
